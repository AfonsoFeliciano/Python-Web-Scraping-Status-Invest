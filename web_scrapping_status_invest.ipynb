{
 "cells": [
  {
   "cell_type": "code",
   "execution_count": 36,
   "metadata": {},
   "outputs": [],
   "source": [
    "import os\n",
    "import time\n",
    "import pandas as pd\n",
    "from selenium import webdriver\n",
    "from selenium.webdriver.chrome.service import Service \n",
    "from webdriver_manager.chrome import ChromeDriverManager\n",
    "from selenium.webdriver.common.by import By\n",
    "from selenium.webdriver.support.ui import WebDriverWait\n",
    "from selenium.webdriver.support import expected_conditions as EC"
   ]
  },
  {
   "cell_type": "code",
   "execution_count": 37,
   "metadata": {},
   "outputs": [],
   "source": [
    "#Instalando o driver\n",
    "servico = Service(ChromeDriverManager().install())\n",
    "\n",
    "#Abrindo o navegador\n",
    "navegador = webdriver.Chrome(service=servico)"
   ]
  },
  {
   "cell_type": "code",
   "execution_count": 38,
   "metadata": {},
   "outputs": [],
   "source": [
    "lista_fii = [ \"mxrf11\", \"tgar11\", \"ggrc11\", \"recr11\", 'rect11', 'vino11', 'brcr11', 'pvbi11', 'visc11', 'hsml11', 'mfii11' ]"
   ]
  },
  {
   "cell_type": "code",
   "execution_count": 39,
   "metadata": {},
   "outputs": [],
   "source": [
    "lista_indicadores_fii = []\n",
    "for fii in lista_fii:\n",
    "\n",
    "    #Criando url\n",
    "    url = f\"https://statusinvest.com.br/fundos-imobiliarios/{fii}\"\n",
    "\n",
    "    \n",
    "    try:\n",
    "        #Abrindo o navegador\n",
    "        navegador.get(url)\n",
    "\n",
    "        time.sleep(0.25)\n",
    "    \n",
    "        #Coletando infos\n",
    "        segmento = navegador.find_element(By.XPATH, '//*[@id=\"fund-section\"]/div/div/div[4]/div/div[1]/div/div/div/a/strong').text\n",
    "        tipo_anbima = navegador.find_element(By.XPATH, '//*[@id=\"fund-section\"]/div/div/div[2]/div/div[5]/div/div/div/strong').text\n",
    "        valor_atual = navegador.find_element(By.XPATH, '//*[@id=\"main-2\"]/div[2]/div[1]/div[1]/div/div[1]/strong').text\n",
    "        variacao_valor_atual = navegador.find_element(By.XPATH, '//*[@id=\"main-2\"]/div[2]/div[1]/div[1]/div/div[2]/span/b').text\n",
    "        dividend_yield = navegador.find_element(By.XPATH, '//*[@id=\"main-2\"]/div[2]/div[1]/div[4]/div/div[1]/strong').text\n",
    "        pvp = navegador.find_element(By.XPATH, '//*[@id=\"main-2\"]/div[2]/div[5]/div/div[2]/div/div[1]/strong').text\n",
    "        caixa = navegador.find_element(By.XPATH, '//*[@id=\"main-2\"]/div[2]/div[5]/div/div[3]/div/div[1]/strong').text\n",
    "        cnpj_fii = navegador.find_element(By.XPATH, '//*[@id=\"fund-section\"]/div/div/div[2]/div/div[1]/div/div/strong').text\n",
    "        administrador = navegador.find_element(By.XPATH, '//*[@id=\"fund-section\"]/div/div/div[3]/div/div[2]/div[1]/div/strong').text\n",
    "        cnpj_administrador = navegador.find_element(By.XPATH, '//*[@id=\"fund-section\"]/div/div/div[3]/div/div[2]/div[1]/div/strong').text\n",
    "    \n",
    "\n",
    "        #Criando dict\n",
    "        dicionario = {  \"fii\": fii, \n",
    "                        \"segmento\": segmento,\n",
    "                        \"tipo_anbima\": tipo_anbima, \n",
    "                        \"valor_atual\": valor_atual, \n",
    "                        \"variacao_valor_atual\": variacao_valor_atual, \n",
    "                        \"dividend_yield\": dividend_yield, \n",
    "                        \"pvp\": pvp,\n",
    "                        \"caixa\": caixa,\n",
    "                        \"cnpj_fii\": cnpj_fii,\n",
    "                        \"administrador\": administrador,\n",
    "                        \"cnpj_administrador\": cnpj_administrador \n",
    "                        \n",
    "                        }\n",
    "\n",
    "        #Criando lista de dicts\n",
    "        lista_indicadores_fii.append(dicionario)\n",
    "    except Exception as e:\n",
    "        print(e)\n",
    "\n",
    "#Fecha o navegador\n",
    "navegador.quit()\n",
    "\n"
   ]
  },
  {
   "cell_type": "code",
   "execution_count": 40,
   "metadata": {},
   "outputs": [],
   "source": [
    "df = pd.DataFrame.from_dict(lista_indicadores_fii)"
   ]
  },
  {
   "cell_type": "code",
   "execution_count": 41,
   "metadata": {},
   "outputs": [],
   "source": [
    "df.to_excel(\"fiis.xlsx\", index=False)"
   ]
  }
 ],
 "metadata": {
  "kernelspec": {
   "display_name": "Python 3.9.12 ('base')",
   "language": "python",
   "name": "python3"
  },
  "language_info": {
   "codemirror_mode": {
    "name": "ipython",
    "version": 3
   },
   "file_extension": ".py",
   "mimetype": "text/x-python",
   "name": "python",
   "nbconvert_exporter": "python",
   "pygments_lexer": "ipython3",
   "version": "3.9.12"
  },
  "orig_nbformat": 4,
  "vscode": {
   "interpreter": {
    "hash": "ad2bdc8ecc057115af97d19610ffacc2b4e99fae6737bb82f5d7fb13d2f2c186"
   }
  }
 },
 "nbformat": 4,
 "nbformat_minor": 2
}
